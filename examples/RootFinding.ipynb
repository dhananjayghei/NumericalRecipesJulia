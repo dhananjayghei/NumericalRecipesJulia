{
 "cells": [
  {
   "cell_type": "markdown",
   "metadata": {},
   "source": [
    "## Root-finding algorithms\n"
   ]
  },
  {
   "cell_type": "code",
   "execution_count": 1,
   "metadata": {},
   "outputs": [
    {
     "data": {
      "text/plain": [
       "v\"1.5.3\""
      ]
     },
     "execution_count": 1,
     "metadata": {},
     "output_type": "execute_result"
    }
   ],
   "source": [
    "VERSION"
   ]
  },
  {
   "cell_type": "code",
   "execution_count": 2,
   "metadata": {},
   "outputs": [
    {
     "data": {
      "text/plain": [
       "rtnewt (generic function with 1 method)"
      ]
     },
     "execution_count": 2,
     "metadata": {},
     "output_type": "execute_result"
    }
   ],
   "source": [
    "## Include the file (Newton-Raphson method)\n",
    "include(\"../src/rtnewt.jl\")           \n",
    "\n",
    "## Include multiple jl files using array comprehension as follows\n",
    "## using Grep\n",
    "## rnFiles = readdir(\"../src/\") |> grep(\".jl\")\n",
    "## rnFiles = [\"../src/\"] .* rnFiles\n",
    "## [include(i) for i in rnFiles]"
   ]
  },
  {
   "cell_type": "code",
   "execution_count": 3,
   "metadata": {},
   "outputs": [
    {
     "data": {
      "text/plain": [
       "f (generic function with 1 method)"
      ]
     },
     "execution_count": 3,
     "metadata": {},
     "output_type": "execute_result"
    }
   ],
   "source": [
    "function f(x)\n",
    "   fx = x^2-3*x+1          ## The value of the function\n",
    "   dfx = 2*x - 3           ## The first derivative\n",
    "   return fx, dfx          ## Returns the function value as well as the first derivative\n",
    "end"
   ]
  },
  {
   "cell_type": "code",
   "execution_count": 4,
   "metadata": {},
   "outputs": [
    {
     "name": "stdout",
     "output_type": "stream",
     "text": [
      "xroot = rtnewt(f, 0.0, 1.0) = 0.38196601125010515\n",
      "(f(xroot))[1] = 0.0\n"
     ]
    },
    {
     "data": {
      "text/plain": [
       "0.0"
      ]
     },
     "execution_count": 4,
     "metadata": {},
     "output_type": "execute_result"
    }
   ],
   "source": [
    "## Newton-Raphson method \n",
    "@show xroot = rtnewt(f, 0.0, 1.0)\n",
    "@show f(xroot)[1]"
   ]
  },
  {
   "cell_type": "code",
   "execution_count": 5,
   "metadata": {},
   "outputs": [
    {
     "name": "stdout",
     "output_type": "stream",
     "text": [
      "  158.983 ns (4 allocations: 320 bytes)\n"
     ]
    },
    {
     "data": {
      "text/plain": [
       "0.3819660112501052"
      ]
     },
     "execution_count": 5,
     "metadata": {},
     "output_type": "execute_result"
    }
   ],
   "source": [
    "## Timing it\n",
    "using BenchmarkTools\n",
    "\n",
    "benchTime = @btime rtnewt($f, $0.0, $2.0)"
   ]
  }
 ],
 "metadata": {
  "kernelspec": {
   "display_name": "Julia 1.5.3",
   "language": "julia",
   "name": "julia-1.5"
  },
  "language_info": {
   "file_extension": ".jl",
   "mimetype": "application/julia",
   "name": "julia",
   "version": "1.5.3"
  }
 },
 "nbformat": 4,
 "nbformat_minor": 2
}
